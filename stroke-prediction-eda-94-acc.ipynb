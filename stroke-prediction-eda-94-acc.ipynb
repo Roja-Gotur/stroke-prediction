{
 "cells": [
  {
   "cell_type": "code",
   "execution_count": 1,
   "id": "smooth-messenger",
   "metadata": {
    "_cell_guid": "b1076dfc-b9ad-4769-8c92-a6c4dae69d19",
    "_uuid": "8f2839f25d086af736a60e9eeb907d3b93b6e0e5",
    "execution": {
     "iopub.execute_input": "2021-04-14T08:17:11.895080Z",
     "iopub.status.busy": "2021-04-14T08:17:11.894512Z",
     "iopub.status.idle": "2021-04-14T08:17:13.692017Z",
     "shell.execute_reply": "2021-04-14T08:17:13.690952Z"
    },
    "papermill": {
     "duration": 1.827165,
     "end_time": "2021-04-14T08:17:13.692243",
     "exception": false,
     "start_time": "2021-04-14T08:17:11.865078",
     "status": "completed"
    },
    "tags": []
   },
   "outputs": [
    {
     "name": "stdout",
     "output_type": "stream",
     "text": [
      "/kaggle/input/stroke-prediction-dataset/healthcare-dataset-stroke-data.csv\n"
     ]
    }
   ],
   "source": [
    "import os\n",
    "import sys\n",
    "import warnings\n",
    "\n",
    "if not sys.warnoptions:\n",
    "    warnings.simplefilter(\"ignore\")\n",
    "import numpy as np # linear algebra\n",
    "import pandas as pd # data processing, CSV file I/O (e.g. pd.read_csv)\n",
    "\n",
    "\n",
    "import matplotlib.pyplot as plt\n",
    "import seaborn as sns\n",
    "from sklearn.preprocessing import LabelEncoder\n",
    "from sklearn.linear_model import LogisticRegression\n",
    "from sklearn.ensemble import RandomForestClassifier\n",
    "from sklearn.tree import DecisionTreeClassifier\n",
    "from sklearn.model_selection import train_test_split\n",
    "from sklearn.metrics import accuracy_score, f1_score\n",
    "\n",
    "from xgboost import XGBClassifier\n",
    "\n",
    "\n",
    "for dirname, _, filenames in os.walk('/kaggle/input'):\n",
    "    for filename in filenames:\n",
    "        print(os.path.join(dirname, filename))"
   ]
  },
  {
   "cell_type": "markdown",
   "id": "powerful-bench",
   "metadata": {
    "papermill": {
     "duration": 0.026311,
     "end_time": "2021-04-14T08:17:13.748197",
     "exception": false,
     "start_time": "2021-04-14T08:17:13.721886",
     "status": "completed"
    },
    "tags": []
   },
   "source": [
    "**I will read the data and consider the hypotheses that arise from analyzing the data**\n",
    "# #1 Getting Startedf1_score"
   ]
  },
  {
   "cell_type": "code",
   "execution_count": 2,
   "id": "sealed-newcastle",
   "metadata": {
    "execution": {
     "iopub.execute_input": "2021-04-14T08:17:13.804685Z",
     "iopub.status.busy": "2021-04-14T08:17:13.804042Z",
     "iopub.status.idle": "2021-04-14T08:17:13.832035Z",
     "shell.execute_reply": "2021-04-14T08:17:13.832643Z"
    },
    "papermill": {
     "duration": 0.058648,
     "end_time": "2021-04-14T08:17:13.832836",
     "exception": false,
     "start_time": "2021-04-14T08:17:13.774188",
     "status": "completed"
    },
    "tags": []
   },
   "outputs": [],
   "source": [
    "df = pd.read_csv('/kaggle/input/stroke-prediction-dataset/healthcare-dataset-stroke-data.csv')"
   ]
  },
  {
   "cell_type": "code",
   "execution_count": 3,
   "id": "enormous-colorado",
   "metadata": {
    "execution": {
     "iopub.execute_input": "2021-04-14T08:17:13.896273Z",
     "iopub.status.busy": "2021-04-14T08:17:13.894645Z",
     "iopub.status.idle": "2021-04-14T08:17:13.919905Z",
     "shell.execute_reply": "2021-04-14T08:17:13.919347Z"
    },
    "papermill": {
     "duration": 0.061657,
     "end_time": "2021-04-14T08:17:13.920050",
     "exception": false,
     "start_time": "2021-04-14T08:17:13.858393",
     "status": "completed"
    },
    "tags": []
   },
   "outputs": [
    {
     "data": {
      "text/html": [
       "<div>\n",
       "<style scoped>\n",
       "    .dataframe tbody tr th:only-of-type {\n",
       "        vertical-align: middle;\n",
       "    }\n",
       "\n",
       "    .dataframe tbody tr th {\n",
       "        vertical-align: top;\n",
       "    }\n",
       "\n",
       "    .dataframe thead th {\n",
       "        text-align: right;\n",
       "    }\n",
       "</style>\n",
       "<table border=\"1\" class=\"dataframe\">\n",
       "  <thead>\n",
       "    <tr style=\"text-align: right;\">\n",
       "      <th></th>\n",
       "      <th>id</th>\n",
       "      <th>gender</th>\n",
       "      <th>age</th>\n",
       "      <th>hypertension</th>\n",
       "      <th>heart_disease</th>\n",
       "      <th>ever_married</th>\n",
       "      <th>work_type</th>\n",
       "      <th>Residence_type</th>\n",
       "      <th>avg_glucose_level</th>\n",
       "      <th>bmi</th>\n",
       "      <th>smoking_status</th>\n",
       "      <th>stroke</th>\n",
       "    </tr>\n",
       "  </thead>\n",
       "  <tbody>\n",
       "    <tr>\n",
       "      <th>0</th>\n",
       "      <td>9046</td>\n",
       "      <td>Male</td>\n",
       "      <td>67.0</td>\n",
       "      <td>0</td>\n",
       "      <td>1</td>\n",
       "      <td>Yes</td>\n",
       "      <td>Private</td>\n",
       "      <td>Urban</td>\n",
       "      <td>228.69</td>\n",
       "      <td>36.6</td>\n",
       "      <td>formerly smoked</td>\n",
       "      <td>1</td>\n",
       "    </tr>\n",
       "    <tr>\n",
       "      <th>1</th>\n",
       "      <td>51676</td>\n",
       "      <td>Female</td>\n",
       "      <td>61.0</td>\n",
       "      <td>0</td>\n",
       "      <td>0</td>\n",
       "      <td>Yes</td>\n",
       "      <td>Self-employed</td>\n",
       "      <td>Rural</td>\n",
       "      <td>202.21</td>\n",
       "      <td>NaN</td>\n",
       "      <td>never smoked</td>\n",
       "      <td>1</td>\n",
       "    </tr>\n",
       "    <tr>\n",
       "      <th>2</th>\n",
       "      <td>31112</td>\n",
       "      <td>Male</td>\n",
       "      <td>80.0</td>\n",
       "      <td>0</td>\n",
       "      <td>1</td>\n",
       "      <td>Yes</td>\n",
       "      <td>Private</td>\n",
       "      <td>Rural</td>\n",
       "      <td>105.92</td>\n",
       "      <td>32.5</td>\n",
       "      <td>never smoked</td>\n",
       "      <td>1</td>\n",
       "    </tr>\n",
       "    <tr>\n",
       "      <th>3</th>\n",
       "      <td>60182</td>\n",
       "      <td>Female</td>\n",
       "      <td>49.0</td>\n",
       "      <td>0</td>\n",
       "      <td>0</td>\n",
       "      <td>Yes</td>\n",
       "      <td>Private</td>\n",
       "      <td>Urban</td>\n",
       "      <td>171.23</td>\n",
       "      <td>34.4</td>\n",
       "      <td>smokes</td>\n",
       "      <td>1</td>\n",
       "    </tr>\n",
       "    <tr>\n",
       "      <th>4</th>\n",
       "      <td>1665</td>\n",
       "      <td>Female</td>\n",
       "      <td>79.0</td>\n",
       "      <td>1</td>\n",
       "      <td>0</td>\n",
       "      <td>Yes</td>\n",
       "      <td>Self-employed</td>\n",
       "      <td>Rural</td>\n",
       "      <td>174.12</td>\n",
       "      <td>24.0</td>\n",
       "      <td>never smoked</td>\n",
       "      <td>1</td>\n",
       "    </tr>\n",
       "  </tbody>\n",
       "</table>\n",
       "</div>"
      ],
      "text/plain": [
       "      id  gender   age  hypertension  heart_disease ever_married  \\\n",
       "0   9046    Male  67.0             0              1          Yes   \n",
       "1  51676  Female  61.0             0              0          Yes   \n",
       "2  31112    Male  80.0             0              1          Yes   \n",
       "3  60182  Female  49.0             0              0          Yes   \n",
       "4   1665  Female  79.0             1              0          Yes   \n",
       "\n",
       "       work_type Residence_type  avg_glucose_level   bmi   smoking_status  \\\n",
       "0        Private          Urban             228.69  36.6  formerly smoked   \n",
       "1  Self-employed          Rural             202.21   NaN     never smoked   \n",
       "2        Private          Rural             105.92  32.5     never smoked   \n",
       "3        Private          Urban             171.23  34.4           smokes   \n",
       "4  Self-employed          Rural             174.12  24.0     never smoked   \n",
       "\n",
       "   stroke  \n",
       "0       1  \n",
       "1       1  \n",
       "2       1  \n",
       "3       1  \n",
       "4       1  "
      ]
     },
     "execution_count": 3,
     "metadata": {},
     "output_type": "execute_result"
    }
   ],
   "source": [
    "df.head()"
   ]
  },
  {
   "cell_type": "code",
   "execution_count": 4,
   "id": "entitled-kinase",
   "metadata": {
    "execution": {
     "iopub.execute_input": "2021-04-14T08:17:13.978567Z",
     "iopub.status.busy": "2021-04-14T08:17:13.976513Z",
     "iopub.status.idle": "2021-04-14T08:17:13.995783Z",
     "shell.execute_reply": "2021-04-14T08:17:13.995065Z"
    },
    "papermill": {
     "duration": 0.050189,
     "end_time": "2021-04-14T08:17:13.995964",
     "exception": false,
     "start_time": "2021-04-14T08:17:13.945775",
     "status": "completed"
    },
    "tags": []
   },
   "outputs": [
    {
     "name": "stdout",
     "output_type": "stream",
     "text": [
      "<class 'pandas.core.frame.DataFrame'>\n",
      "RangeIndex: 5110 entries, 0 to 5109\n",
      "Data columns (total 12 columns):\n",
      " #   Column             Non-Null Count  Dtype  \n",
      "---  ------             --------------  -----  \n",
      " 0   id                 5110 non-null   int64  \n",
      " 1   gender             5110 non-null   object \n",
      " 2   age                5110 non-null   float64\n",
      " 3   hypertension       5110 non-null   int64  \n",
      " 4   heart_disease      5110 non-null   int64  \n",
      " 5   ever_married       5110 non-null   object \n",
      " 6   work_type          5110 non-null   object \n",
      " 7   Residence_type     5110 non-null   object \n",
      " 8   avg_glucose_level  5110 non-null   float64\n",
      " 9   bmi                4909 non-null   float64\n",
      " 10  smoking_status     5110 non-null   object \n",
      " 11  stroke             5110 non-null   int64  \n",
      "dtypes: float64(3), int64(4), object(5)\n",
      "memory usage: 479.2+ KB\n"
     ]
    }
   ],
   "source": [
    "df.info()"
   ]
  },
  {
   "cell_type": "markdown",
   "id": "raising-homework",
   "metadata": {
    "papermill": {
     "duration": 0.025607,
     "end_time": "2021-04-14T08:17:14.050817",
     "exception": false,
     "start_time": "2021-04-14T08:17:14.025210",
     "status": "completed"
    },
    "tags": []
   },
   "source": [
    "**I think that if delete the missing data, it will not affect the further learning,  \n",
    "because it is not a good idea to fill in the data mean. For this reason, we should just delete them.**"
   ]
  },
  {
   "cell_type": "code",
   "execution_count": 5,
   "id": "structural-netherlands",
   "metadata": {
    "execution": {
     "iopub.execute_input": "2021-04-14T08:17:14.107966Z",
     "iopub.status.busy": "2021-04-14T08:17:14.107262Z",
     "iopub.status.idle": "2021-04-14T08:17:14.121569Z",
     "shell.execute_reply": "2021-04-14T08:17:14.121046Z"
    },
    "papermill": {
     "duration": 0.044968,
     "end_time": "2021-04-14T08:17:14.121699",
     "exception": false,
     "start_time": "2021-04-14T08:17:14.076731",
     "status": "completed"
    },
    "tags": []
   },
   "outputs": [
    {
     "name": "stdout",
     "output_type": "stream",
     "text": [
      "<class 'pandas.core.frame.DataFrame'>\n",
      "RangeIndex: 5110 entries, 0 to 5109\n",
      "Data columns (total 12 columns):\n",
      " #   Column             Non-Null Count  Dtype  \n",
      "---  ------             --------------  -----  \n",
      " 0   id                 5110 non-null   int64  \n",
      " 1   gender             5110 non-null   object \n",
      " 2   age                5110 non-null   float64\n",
      " 3   hypertension       5110 non-null   int64  \n",
      " 4   heart_disease      5110 non-null   int64  \n",
      " 5   ever_married       5110 non-null   object \n",
      " 6   work_type          5110 non-null   object \n",
      " 7   Residence_type     5110 non-null   object \n",
      " 8   avg_glucose_level  5110 non-null   float64\n",
      " 9   bmi                5110 non-null   float64\n",
      " 10  smoking_status     5110 non-null   object \n",
      " 11  stroke             5110 non-null   int64  \n",
      "dtypes: float64(3), int64(4), object(5)\n",
      "memory usage: 479.2+ KB\n"
     ]
    }
   ],
   "source": [
    "df['bmi'] = df['bmi'].fillna(value=df['bmi'].mean())\n",
    "df.info()"
   ]
  },
  {
   "cell_type": "markdown",
   "id": "permanent-demographic",
   "metadata": {
    "papermill": {
     "duration": 0.025906,
     "end_time": "2021-04-14T08:17:14.174117",
     "exception": false,
     "start_time": "2021-04-14T08:17:14.148211",
     "status": "completed"
    },
    "tags": []
   },
   "source": [
    "**I will now look at the uniqueness of the categorical data**"
   ]
  },
  {
   "cell_type": "code",
   "execution_count": 6,
   "id": "efficient-firmware",
   "metadata": {
    "execution": {
     "iopub.execute_input": "2021-04-14T08:17:14.233076Z",
     "iopub.status.busy": "2021-04-14T08:17:14.232419Z",
     "iopub.status.idle": "2021-04-14T08:17:14.240240Z",
     "shell.execute_reply": "2021-04-14T08:17:14.239526Z"
    },
    "papermill": {
     "duration": 0.039992,
     "end_time": "2021-04-14T08:17:14.240394",
     "exception": false,
     "start_time": "2021-04-14T08:17:14.200402",
     "status": "completed"
    },
    "tags": []
   },
   "outputs": [
    {
     "name": "stdout",
     "output_type": "stream",
     "text": [
      "gender: ['Male' 'Female' 'Other']\n",
      "ever_married: ['Yes' 'No']\n",
      "work_type: ['Private' 'Self-employed' 'Govt_job' 'children' 'Never_worked']\n",
      "Residence_type: ['Urban' 'Rural']\n",
      "smoking_status: ['formerly smoked' 'never smoked' 'smokes' 'Unknown']\n"
     ]
    },
    {
     "data": {
      "text/plain": [
       "[None, None, None, None, None]"
      ]
     },
     "execution_count": 6,
     "metadata": {},
     "output_type": "execute_result"
    }
   ],
   "source": [
    "[\n",
    "    print(f'{col_name}: {df[col_name].unique()}') \n",
    "    for col_name in [\n",
    "        col for col in df.columns \n",
    "        if df[col].dtype == 'object'\n",
    "    ]\n",
    "] # Sorry, but I like use list comprehension"
   ]
  },
  {
   "cell_type": "markdown",
   "id": "passing-fifth",
   "metadata": {
    "papermill": {
     "duration": 0.028608,
     "end_time": "2021-04-14T08:17:14.295934",
     "exception": false,
     "start_time": "2021-04-14T08:17:14.267326",
     "status": "completed"
    },
    "tags": []
   },
   "source": [
    "**It seems to me that the ever_married and residence_type fields are not the main ones here, why do I think so.  \n",
    "I'm not an expert on this, I'd have to read more, but I don't think a stroke depends on whether a person is married or not.  \n",
    "I think the same with the type of residence, I think that a person wherever they are is not immune to it.  \n",
    "To prove or disprove this, I will construct graphs.**"
   ]
  },
  {
   "cell_type": "markdown",
   "id": "rough-fantasy",
   "metadata": {
    "papermill": {
     "duration": 0.026466,
     "end_time": "2021-04-14T08:17:14.349564",
     "exception": false,
     "start_time": "2021-04-14T08:17:14.323098",
     "status": "completed"
    },
    "tags": []
   },
   "source": [
    "## #1.1 Visualization of married and unmarried people"
   ]
  },
  {
   "cell_type": "code",
   "execution_count": 7,
   "id": "spread-reminder",
   "metadata": {
    "execution": {
     "iopub.execute_input": "2021-04-14T08:17:14.410007Z",
     "iopub.status.busy": "2021-04-14T08:17:14.409353Z",
     "iopub.status.idle": "2021-04-14T08:17:14.421870Z",
     "shell.execute_reply": "2021-04-14T08:17:14.421334Z"
    },
    "papermill": {
     "duration": 0.045201,
     "end_time": "2021-04-14T08:17:14.422022",
     "exception": false,
     "start_time": "2021-04-14T08:17:14.376821",
     "status": "completed"
    },
    "tags": []
   },
   "outputs": [],
   "source": [
    "married = df[df['ever_married'] == 'Yes'].groupby(['stroke'])['ever_married'].count().reset_index()\n",
    "unmarried = df[df['ever_married'] == 'No'].groupby(['stroke'])['ever_married'].count().reset_index()"
   ]
  },
  {
   "cell_type": "markdown",
   "id": "standing-protest",
   "metadata": {
    "papermill": {
     "duration": 0.027122,
     "end_time": "2021-04-14T08:17:14.476450",
     "exception": false,
     "start_time": "2021-04-14T08:17:14.449328",
     "status": "completed"
    },
    "tags": []
   },
   "source": [
    "**As we can see in the graphs, the possibility of stroke is greater for married people.  \n",
    "Apparently I was wrong about this field being unnecessary.  \n",
    "Most likely it does not depend on whether the person was married or not,  \n",
    "but depends on the age of the person, i.e. his age is this dependence.**"
   ]
  },
  {
   "cell_type": "code",
   "execution_count": 8,
   "id": "consolidated-champion",
   "metadata": {
    "execution": {
     "iopub.execute_input": "2021-04-14T08:17:14.534166Z",
     "iopub.status.busy": "2021-04-14T08:17:14.533242Z",
     "iopub.status.idle": "2021-04-14T08:17:14.862084Z",
     "shell.execute_reply": "2021-04-14T08:17:14.861543Z"
    },
    "papermill": {
     "duration": 0.358774,
     "end_time": "2021-04-14T08:17:14.862226",
     "exception": false,
     "start_time": "2021-04-14T08:17:14.503452",
     "status": "completed"
    },
    "tags": []
   },
   "outputs": [
    {
     "data": {
      "image/png": "[encoded data removed]",
      "text/plain": [
       "<Figure size 1080x864 with 2 Axes>"
      ]
     },
     "metadata": {
      "needs_background": "light"
     },
     "output_type": "display_data"
    }
   ],
   "source": [
    "plt.figure(figsize=(15, 12))\n",
    "plt.subplot(2,2,1)\n",
    "plt.title('Married')\n",
    "sns.barplot(x='stroke', y='ever_married', hue='stroke', data=married)\n",
    "plt.subplot(2,2,2)\n",
    "plt.title('Unmarried')\n",
    "sns.barplot(x='stroke', y='ever_married', hue='stroke', data=unmarried)\n",
    "plt.show()"
   ]
  },
  {
   "cell_type": "markdown",
   "id": "vocational-channel",
   "metadata": {
    "papermill": {
     "duration": 0.027883,
     "end_time": "2021-04-14T08:17:14.918168",
     "exception": false,
     "start_time": "2021-04-14T08:17:14.890285",
     "status": "completed"
    },
    "tags": []
   },
   "source": [
    "## #1.2 Urban and rural visualization"
   ]
  },
  {
   "cell_type": "code",
   "execution_count": 9,
   "id": "ignored-liquid",
   "metadata": {
    "execution": {
     "iopub.execute_input": "2021-04-14T08:17:14.980632Z",
     "iopub.status.busy": "2021-04-14T08:17:14.979882Z",
     "iopub.status.idle": "2021-04-14T08:17:14.990604Z",
     "shell.execute_reply": "2021-04-14T08:17:14.989968Z"
    },
    "papermill": {
     "duration": 0.044419,
     "end_time": "2021-04-14T08:17:14.990739",
     "exception": false,
     "start_time": "2021-04-14T08:17:14.946320",
     "status": "completed"
    },
    "tags": []
   },
   "outputs": [],
   "source": [
    "urban = df[df['Residence_type'] == 'Urban'].groupby(['stroke'])['Residence_type'].count().reset_index()\n",
    "rural = df[df['Residence_type'] == 'Rural'].groupby(['stroke'])['Residence_type'].count().reset_index()"
   ]
  },
  {
   "cell_type": "markdown",
   "id": "pleasant-harmony",
   "metadata": {
    "papermill": {
     "duration": 0.027516,
     "end_time": "2021-04-14T08:17:15.046410",
     "exception": false,
     "start_time": "2021-04-14T08:17:15.018894",
     "status": "completed"
    },
    "tags": []
   },
   "source": [
    "**As we can see on the graphs, the data are not very different,  \n",
    "so I think this field is really not very necessary, so I will  \n",
    "eliminate it for training in the future.**"
   ]
  },
  {
   "cell_type": "code",
   "execution_count": 10,
   "id": "extraordinary-assessment",
   "metadata": {
    "execution": {
     "iopub.execute_input": "2021-04-14T08:17:15.123683Z",
     "iopub.status.busy": "2021-04-14T08:17:15.114828Z",
     "iopub.status.idle": "2021-04-14T08:17:15.396367Z",
     "shell.execute_reply": "2021-04-14T08:17:15.395768Z"
    },
    "papermill": {
     "duration": 0.321977,
     "end_time": "2021-04-14T08:17:15.396506",
     "exception": false,
     "start_time": "2021-04-14T08:17:15.074529",
     "status": "completed"
    },
    "tags": []
   },
   "outputs": [
    {
     "data": {
      "image/png": "[encoded data removed]",
      "text/plain": [
       "<Figure size 1080x864 with 2 Axes>"
      ]
     },
     "metadata": {
      "needs_background": "light"
     },
     "output_type": "display_data"
    }
   ],
   "source": [
    "plt.figure(figsize=(15, 12))\n",
    "plt.subplot(2,2,1)\n",
    "plt.title('Urban')\n",
    "sns.barplot(x='stroke', y='Residence_type', hue='stroke', data=urban)\n",
    "plt.subplot(2,2,2)\n",
    "plt.title('Rural')\n",
    "sns.barplot(x='stroke', y='Residence_type', hue='stroke', data=rural)\n",
    "plt.show()"
   ]
  },
  {
   "cell_type": "markdown",
   "id": "micro-banana",
   "metadata": {
    "papermill": {
     "duration": 0.029724,
     "end_time": "2021-04-14T08:17:15.455522",
     "exception": false,
     "start_time": "2021-04-14T08:17:15.425798",
     "status": "completed"
    },
    "tags": []
   },
   "source": [
    "## #1.3 Visualization of work types "
   ]
  },
  {
   "cell_type": "code",
   "execution_count": 11,
   "id": "manual-newman",
   "metadata": {
    "execution": {
     "iopub.execute_input": "2021-04-14T08:17:15.522633Z",
     "iopub.status.busy": "2021-04-14T08:17:15.521473Z",
     "iopub.status.idle": "2021-04-14T08:17:15.540631Z",
     "shell.execute_reply": "2021-04-14T08:17:15.539946Z"
    },
    "papermill": {
     "duration": 0.055762,
     "end_time": "2021-04-14T08:17:15.540798",
     "exception": false,
     "start_time": "2021-04-14T08:17:15.485036",
     "status": "completed"
    },
    "tags": []
   },
   "outputs": [],
   "source": [
    "private = df[df['work_type'] == 'Private'].groupby(['stroke'])['work_type'].count().reset_index()\n",
    "self_employed = df[df['work_type'] == 'Self-employed'].groupby(['stroke'])['work_type'].count().reset_index()\n",
    "govt_job = df[df['work_type'] == 'Govt_job'].groupby(['stroke'])['work_type'].count().reset_index()\n",
    "children = df[df['work_type'] == 'children'].groupby(['stroke'])['work_type'].count().reset_index()\n",
    "never_worked = df[df['work_type'] == 'Never_worked'].groupby(['stroke'])['work_type'].count().reset_index()"
   ]
  },
  {
   "cell_type": "markdown",
   "id": "least-translation",
   "metadata": {
    "papermill": {
     "duration": 0.029264,
     "end_time": "2021-04-14T08:17:15.599122",
     "exception": false,
     "start_time": "2021-04-14T08:17:15.569858",
     "status": "completed"
    },
    "tags": []
   },
   "source": [
    "**As we can see from the graphs, you can see that they are almost similar to each other.  \n",
    "I can note only two types of different graphs from the other graphs. They are children and the unemployed.  \n",
    "So I don't think you can predict anything good from these charts and this data, because the data is similar, ~25 units different**"
   ]
  },
  {
   "cell_type": "code",
   "execution_count": 12,
   "id": "becoming-object",
   "metadata": {
    "execution": {
     "iopub.execute_input": "2021-04-14T08:17:15.688236Z",
     "iopub.status.busy": "2021-04-14T08:17:15.682367Z",
     "iopub.status.idle": "2021-04-14T08:17:16.408277Z",
     "shell.execute_reply": "2021-04-14T08:17:16.407759Z"
    },
    "papermill": {
     "duration": 0.779063,
     "end_time": "2021-04-14T08:17:16.408412",
     "exception": false,
     "start_time": "2021-04-14T08:17:15.629349",
     "status": "completed"
    },
    "tags": []
   },
   "outputs": [
    {
     "data": {
      "image/png": "[encoded data removed]",
      "text/plain": [
       "<Figure size 1080x864 with 4 Axes>"
      ]
     },
     "metadata": {
      "needs_background": "light"
     },
     "output_type": "display_data"
    },
    {
     "data": {
      "image/png": "[encoded data removed]",
      "text/plain": [
       "<Figure size 432x288 with 1 Axes>"
      ]
     },
     "metadata": {
      "needs_background": "light"
     },
     "output_type": "display_data"
    }
   ],
   "source": [
    "plt.figure(figsize=(15, 12))\n",
    "plt.subplot(2,2,1)\n",
    "plt.title('Private')\n",
    "sns.barplot(x='stroke', y='work_type', hue='stroke', data=private)\n",
    "plt.subplot(2,2,2)\n",
    "plt.title('Self-employed')\n",
    "sns.barplot(x='stroke', y='work_type', hue='stroke', data=self_employed)\n",
    "plt.subplot(2,2,3)\n",
    "plt.title('Govt_job')\n",
    "sns.barplot(x='stroke', y='work_type', hue='stroke', data=govt_job)\n",
    "plt.subplot(2,2,4)\n",
    "plt.title('Children')\n",
    "sns.barplot(x='stroke', y='work_type', hue='stroke', data=children)\n",
    "plt.show()\n",
    "plt.title('Nver_worked')\n",
    "sns.barplot(x='stroke', y='work_type', hue='stroke', data=never_worked)\n",
    "plt.show()"
   ]
  },
  {
   "cell_type": "markdown",
   "id": "first-server",
   "metadata": {
    "papermill": {
     "duration": 0.03084,
     "end_time": "2021-04-14T08:17:16.470812",
     "exception": false,
     "start_time": "2021-04-14T08:17:16.439972",
     "status": "completed"
    },
    "tags": []
   },
   "source": [
    "## #1.4 Visualization by status of smoking"
   ]
  },
  {
   "cell_type": "code",
   "execution_count": 13,
   "id": "possible-asian",
   "metadata": {
    "execution": {
     "iopub.execute_input": "2021-04-14T08:17:16.549752Z",
     "iopub.status.busy": "2021-04-14T08:17:16.541019Z",
     "iopub.status.idle": "2021-04-14T08:17:16.556214Z",
     "shell.execute_reply": "2021-04-14T08:17:16.555594Z"
    },
    "papermill": {
     "duration": 0.054347,
     "end_time": "2021-04-14T08:17:16.556349",
     "exception": false,
     "start_time": "2021-04-14T08:17:16.502002",
     "status": "completed"
    },
    "tags": []
   },
   "outputs": [],
   "source": [
    "formerly_smoked = df[df['smoking_status'] == 'formerly smoked'].groupby(['stroke'])['smoking_status'].count().reset_index()\n",
    "never_smoked = df[df['smoking_status'] == 'never smoked'].groupby(['stroke'])['smoking_status'].count().reset_index()\n",
    "smokes = df[df['smoking_status'] == 'smokes'].groupby(['stroke'])['smoking_status'].count().reset_index()\n",
    "unknown = df[df['smoking_status'] == 'Unknown'].groupby(['stroke'])['smoking_status'].count().reset_index()"
   ]
  },
  {
   "cell_type": "markdown",
   "id": "peaceful-johnson",
   "metadata": {
    "papermill": {
     "duration": 0.030166,
     "end_time": "2021-04-14T08:17:16.617359",
     "exception": false,
     "start_time": "2021-04-14T08:17:16.587193",
     "status": "completed"
    },
    "tags": []
   },
   "source": [
    "**What can tell from these graphs?  \n",
    "I think that these graphs again do not reflect very well the possibility of stroke.**"
   ]
  },
  {
   "cell_type": "code",
   "execution_count": 14,
   "id": "ambient-composer",
   "metadata": {
    "execution": {
     "iopub.execute_input": "2021-04-14T08:17:16.698551Z",
     "iopub.status.busy": "2021-04-14T08:17:16.692125Z",
     "iopub.status.idle": "2021-04-14T08:17:17.209209Z",
     "shell.execute_reply": "2021-04-14T08:17:17.208516Z"
    },
    "papermill": {
     "duration": 0.561278,
     "end_time": "2021-04-14T08:17:17.209379",
     "exception": false,
     "start_time": "2021-04-14T08:17:16.648101",
     "status": "completed"
    },
    "tags": []
   },
   "outputs": [
    {
     "data": {
      "image/png": "[encoded data removed]",
      "text/plain": [
       "<Figure size 1080x864 with 4 Axes>"
      ]
     },
     "metadata": {
      "needs_background": "light"
     },
     "output_type": "display_data"
    }
   ],
   "source": [
    "plt.figure(figsize=(15, 12))\n",
    "plt.subplot(2,2,1)\n",
    "plt.title('Formerly smoked')\n",
    "sns.barplot(x='stroke', y='smoking_status', hue='stroke', data=formerly_smoked)\n",
    "plt.subplot(2,2,2)\n",
    "plt.title('Never smoked')\n",
    "sns.barplot(x='stroke', y='smoking_status', hue='stroke', data=never_smoked)\n",
    "plt.subplot(2,2,3)\n",
    "plt.title('Smokes')\n",
    "sns.barplot(x='stroke', y='smoking_status', hue='stroke', data=smokes)\n",
    "plt.subplot(2,2,4)\n",
    "plt.title('Unknown')\n",
    "sns.barplot(x='stroke', y='smoking_status', hue='stroke', data=unknown)\n",
    "plt.show()"
   ]
  },
  {
   "cell_type": "markdown",
   "id": "outdoor-breast",
   "metadata": {
    "papermill": {
     "duration": 0.031557,
     "end_time": "2021-04-14T08:17:17.273487",
     "exception": false,
     "start_time": "2021-04-14T08:17:17.241930",
     "status": "completed"
    },
    "tags": []
   },
   "source": [
    "## #1.5 Visualization by gender"
   ]
  },
  {
   "cell_type": "code",
   "execution_count": 15,
   "id": "going-daily",
   "metadata": {
    "execution": {
     "iopub.execute_input": "2021-04-14T08:17:17.343207Z",
     "iopub.status.busy": "2021-04-14T08:17:17.342510Z",
     "iopub.status.idle": "2021-04-14T08:17:17.355154Z",
     "shell.execute_reply": "2021-04-14T08:17:17.354541Z"
    },
    "papermill": {
     "duration": 0.049914,
     "end_time": "2021-04-14T08:17:17.355283",
     "exception": false,
     "start_time": "2021-04-14T08:17:17.305369",
     "status": "completed"
    },
    "tags": []
   },
   "outputs": [],
   "source": [
    "male = df[df['gender'] == 'Male'].groupby(['stroke'])['gender'].count().reset_index()\n",
    "female = df[df['gender'] == 'Female'].groupby(['stroke'])['gender'].count().reset_index()\n",
    "other = df[df['gender'] == 'Other'].groupby(['stroke'])['gender'].count().reset_index()"
   ]
  },
  {
   "cell_type": "markdown",
   "id": "committed-astronomy",
   "metadata": {
    "papermill": {
     "duration": 0.03161,
     "end_time": "2021-04-14T08:17:17.419807",
     "exception": false,
     "start_time": "2021-04-14T08:17:17.388197",
     "status": "completed"
    },
    "tags": []
   },
   "source": [
    "**On these graphs we can also see the similarity of these data, it turns out that there is nothing to judge from them.**"
   ]
  },
  {
   "cell_type": "code",
   "execution_count": 16,
   "id": "excess-pressing",
   "metadata": {
    "execution": {
     "iopub.execute_input": "2021-04-14T08:17:17.517221Z",
     "iopub.status.busy": "2021-04-14T08:17:17.503149Z",
     "iopub.status.idle": "2021-04-14T08:17:17.866433Z",
     "shell.execute_reply": "2021-04-14T08:17:17.866896Z"
    },
    "papermill": {
     "duration": 0.415213,
     "end_time": "2021-04-14T08:17:17.867081",
     "exception": false,
     "start_time": "2021-04-14T08:17:17.451868",
     "status": "completed"
    },
    "tags": []
   },
   "outputs": [
    {
     "data": {
      "image/png": "[encoded data removed]",
      "text/plain": [
       "<Figure size 1080x864 with 3 Axes>"
      ]
     },
     "metadata": {
      "needs_background": "light"
     },
     "output_type": "display_data"
    }
   ],
   "source": [
    "plt.figure(figsize=(15, 12))\n",
    "plt.subplot(2,2,1)\n",
    "plt.title('Male')\n",
    "sns.barplot(x='stroke', y='gender', hue='stroke', data=male)\n",
    "plt.subplot(2,2,2)\n",
    "plt.title('Female')\n",
    "sns.barplot(x='stroke', y='gender', hue='stroke', data=female)\n",
    "plt.subplot(2,2,3)\n",
    "plt.title('Other')\n",
    "sns.barplot(x='stroke', y='gender', hue='stroke', data=other)\n",
    "plt.show()"
   ]
  },
  {
   "cell_type": "markdown",
   "id": "employed-institute",
   "metadata": {
    "papermill": {
     "duration": 0.032251,
     "end_time": "2021-04-14T08:17:17.932083",
     "exception": false,
     "start_time": "2021-04-14T08:17:17.899832",
     "status": "completed"
    },
    "tags": []
   },
   "source": [
    "## Summary of these charts.\n",
    "**I dare to assume that there is not much good to assume on these feature, because  \n",
    "I did not notice a big change, that is, the data is not very different, although they belong to different categories.  \n",
    "Having redone this job, I don't think should exclude any columns, let's see what happens.**"
   ]
  },
  {
   "cell_type": "code",
   "execution_count": 17,
   "id": "relevant-tucson",
   "metadata": {
    "execution": {
     "iopub.execute_input": "2021-04-14T08:17:18.006471Z",
     "iopub.status.busy": "2021-04-14T08:17:18.005486Z",
     "iopub.status.idle": "2021-04-14T08:17:18.033613Z",
     "shell.execute_reply": "2021-04-14T08:17:18.033009Z"
    },
    "papermill": {
     "duration": 0.069103,
     "end_time": "2021-04-14T08:17:18.033746",
     "exception": false,
     "start_time": "2021-04-14T08:17:17.964643",
     "status": "completed"
    },
    "tags": []
   },
   "outputs": [
    {
     "data": {
      "text/html": [
       "<div>\n",
       "<style scoped>\n",
       "    .dataframe tbody tr th:only-of-type {\n",
       "        vertical-align: middle;\n",
       "    }\n",
       "\n",
       "    .dataframe tbody tr th {\n",
       "        vertical-align: top;\n",
       "    }\n",
       "\n",
       "    .dataframe thead th {\n",
       "        text-align: right;\n",
       "    }\n",
       "</style>\n",
       "<table border=\"1\" class=\"dataframe\">\n",
       "  <thead>\n",
       "    <tr style=\"text-align: right;\">\n",
       "      <th></th>\n",
       "      <th>id</th>\n",
       "      <th>age</th>\n",
       "      <th>hypertension</th>\n",
       "      <th>heart_disease</th>\n",
       "      <th>avg_glucose_level</th>\n",
       "      <th>bmi</th>\n",
       "      <th>stroke</th>\n",
       "    </tr>\n",
       "  </thead>\n",
       "  <tbody>\n",
       "    <tr>\n",
       "      <th>count</th>\n",
       "      <td>5110.000000</td>\n",
       "      <td>5110.000000</td>\n",
       "      <td>5110.000000</td>\n",
       "      <td>5110.000000</td>\n",
       "      <td>5110.000000</td>\n",
       "      <td>5110.000000</td>\n",
       "      <td>5110.000000</td>\n",
       "    </tr>\n",
       "    <tr>\n",
       "      <th>mean</th>\n",
       "      <td>36517.829354</td>\n",
       "      <td>43.226614</td>\n",
       "      <td>0.097456</td>\n",
       "      <td>0.054012</td>\n",
       "      <td>106.147677</td>\n",
       "      <td>28.893237</td>\n",
       "      <td>0.048728</td>\n",
       "    </tr>\n",
       "    <tr>\n",
       "      <th>std</th>\n",
       "      <td>21161.721625</td>\n",
       "      <td>22.612647</td>\n",
       "      <td>0.296607</td>\n",
       "      <td>0.226063</td>\n",
       "      <td>45.283560</td>\n",
       "      <td>7.698018</td>\n",
       "      <td>0.215320</td>\n",
       "    </tr>\n",
       "    <tr>\n",
       "      <th>min</th>\n",
       "      <td>67.000000</td>\n",
       "      <td>0.080000</td>\n",
       "      <td>0.000000</td>\n",
       "      <td>0.000000</td>\n",
       "      <td>55.120000</td>\n",
       "      <td>10.300000</td>\n",
       "      <td>0.000000</td>\n",
       "    </tr>\n",
       "    <tr>\n",
       "      <th>25%</th>\n",
       "      <td>17741.250000</td>\n",
       "      <td>25.000000</td>\n",
       "      <td>0.000000</td>\n",
       "      <td>0.000000</td>\n",
       "      <td>77.245000</td>\n",
       "      <td>23.800000</td>\n",
       "      <td>0.000000</td>\n",
       "    </tr>\n",
       "    <tr>\n",
       "      <th>50%</th>\n",
       "      <td>36932.000000</td>\n",
       "      <td>45.000000</td>\n",
       "      <td>0.000000</td>\n",
       "      <td>0.000000</td>\n",
       "      <td>91.885000</td>\n",
       "      <td>28.400000</td>\n",
       "      <td>0.000000</td>\n",
       "    </tr>\n",
       "    <tr>\n",
       "      <th>75%</th>\n",
       "      <td>54682.000000</td>\n",
       "      <td>61.000000</td>\n",
       "      <td>0.000000</td>\n",
       "      <td>0.000000</td>\n",
       "      <td>114.090000</td>\n",
       "      <td>32.800000</td>\n",
       "      <td>0.000000</td>\n",
       "    </tr>\n",
       "    <tr>\n",
       "      <th>max</th>\n",
       "      <td>72940.000000</td>\n",
       "      <td>82.000000</td>\n",
       "      <td>1.000000</td>\n",
       "      <td>1.000000</td>\n",
       "      <td>271.740000</td>\n",
       "      <td>97.600000</td>\n",
       "      <td>1.000000</td>\n",
       "    </tr>\n",
       "  </tbody>\n",
       "</table>\n",
       "</div>"
      ],
      "text/plain": [
       "                 id          age  hypertension  heart_disease  \\\n",
       "count   5110.000000  5110.000000   5110.000000    5110.000000   \n",
       "mean   36517.829354    43.226614      0.097456       0.054012   \n",
       "std    21161.721625    22.612647      0.296607       0.226063   \n",
       "min       67.000000     0.080000      0.000000       0.000000   \n",
       "25%    17741.250000    25.000000      0.000000       0.000000   \n",
       "50%    36932.000000    45.000000      0.000000       0.000000   \n",
       "75%    54682.000000    61.000000      0.000000       0.000000   \n",
       "max    72940.000000    82.000000      1.000000       1.000000   \n",
       "\n",
       "       avg_glucose_level          bmi       stroke  \n",
       "count        5110.000000  5110.000000  5110.000000  \n",
       "mean          106.147677    28.893237     0.048728  \n",
       "std            45.283560     7.698018     0.215320  \n",
       "min            55.120000    10.300000     0.000000  \n",
       "25%            77.245000    23.800000     0.000000  \n",
       "50%            91.885000    28.400000     0.000000  \n",
       "75%           114.090000    32.800000     0.000000  \n",
       "max           271.740000    97.600000     1.000000  "
      ]
     },
     "execution_count": 17,
     "metadata": {},
     "output_type": "execute_result"
    }
   ],
   "source": [
    "df.describe()"
   ]
  },
  {
   "cell_type": "markdown",
   "id": "prime-festival",
   "metadata": {
    "papermill": {
     "duration": 0.033501,
     "end_time": "2021-04-14T08:17:18.100792",
     "exception": false,
     "start_time": "2021-04-14T08:17:18.067291",
     "status": "completed"
    },
    "tags": []
   },
   "source": [
    "**You can see the minimum age of ~0, I do not know if this is good or not.**"
   ]
  },
  {
   "cell_type": "markdown",
   "id": "better-projection",
   "metadata": {
    "papermill": {
     "duration": 0.034552,
     "end_time": "2021-04-14T08:17:18.170197",
     "exception": false,
     "start_time": "2021-04-14T08:17:18.135645",
     "status": "completed"
    },
    "tags": []
   },
   "source": [
    "# #2 Preprocessing"
   ]
  },
  {
   "cell_type": "code",
   "execution_count": 18,
   "id": "proof-source",
   "metadata": {
    "execution": {
     "iopub.execute_input": "2021-04-14T08:17:18.252603Z",
     "iopub.status.busy": "2021-04-14T08:17:18.247450Z",
     "iopub.status.idle": "2021-04-14T08:17:18.256138Z",
     "shell.execute_reply": "2021-04-14T08:17:18.256548Z"
    },
    "papermill": {
     "duration": 0.051475,
     "end_time": "2021-04-14T08:17:18.256718",
     "exception": false,
     "start_time": "2021-04-14T08:17:18.205243",
     "status": "completed"
    },
    "tags": []
   },
   "outputs": [],
   "source": [
    "le = LabelEncoder()\n",
    "object_col = [col for col in df.columns if df[col].dtype == 'object']\n",
    "for col in object_col:\n",
    "    df[col] = le.fit_transform(df[col])"
   ]
  },
  {
   "cell_type": "code",
   "execution_count": 19,
   "id": "complete-expression",
   "metadata": {
    "execution": {
     "iopub.execute_input": "2021-04-14T08:17:18.331110Z",
     "iopub.status.busy": "2021-04-14T08:17:18.330137Z",
     "iopub.status.idle": "2021-04-14T08:17:18.343218Z",
     "shell.execute_reply": "2021-04-14T08:17:18.343647Z"
    },
    "papermill": {
     "duration": 0.053566,
     "end_time": "2021-04-14T08:17:18.343821",
     "exception": false,
     "start_time": "2021-04-14T08:17:18.290255",
     "status": "completed"
    },
    "tags": []
   },
   "outputs": [
    {
     "name": "stdout",
     "output_type": "stream",
     "text": [
      "<class 'pandas.core.frame.DataFrame'>\n",
      "RangeIndex: 5110 entries, 0 to 5109\n",
      "Data columns (total 12 columns):\n",
      " #   Column             Non-Null Count  Dtype  \n",
      "---  ------             --------------  -----  \n",
      " 0   id                 5110 non-null   int64  \n",
      " 1   gender             5110 non-null   int64  \n",
      " 2   age                5110 non-null   float64\n",
      " 3   hypertension       5110 non-null   int64  \n",
      " 4   heart_disease      5110 non-null   int64  \n",
      " 5   ever_married       5110 non-null   int64  \n",
      " 6   work_type          5110 non-null   int64  \n",
      " 7   Residence_type     5110 non-null   int64  \n",
      " 8   avg_glucose_level  5110 non-null   float64\n",
      " 9   bmi                5110 non-null   float64\n",
      " 10  smoking_status     5110 non-null   int64  \n",
      " 11  stroke             5110 non-null   int64  \n",
      "dtypes: float64(3), int64(9)\n",
      "memory usage: 479.2 KB\n"
     ]
    }
   ],
   "source": [
    "df.info()"
   ]
  },
  {
   "cell_type": "markdown",
   "id": "suffering-accountability",
   "metadata": {
    "papermill": {
     "duration": 0.033294,
     "end_time": "2021-04-14T08:17:18.411749",
     "exception": false,
     "start_time": "2021-04-14T08:17:18.378455",
     "status": "completed"
    },
    "tags": []
   },
   "source": [
    "# #3 Modeling"
   ]
  },
  {
   "cell_type": "code",
   "execution_count": 20,
   "id": "least-separation",
   "metadata": {
    "execution": {
     "iopub.execute_input": "2021-04-14T08:17:18.487329Z",
     "iopub.status.busy": "2021-04-14T08:17:18.486694Z",
     "iopub.status.idle": "2021-04-14T08:17:18.491320Z",
     "shell.execute_reply": "2021-04-14T08:17:18.490812Z"
    },
    "papermill": {
     "duration": 0.045893,
     "end_time": "2021-04-14T08:17:18.491452",
     "exception": false,
     "start_time": "2021-04-14T08:17:18.445559",
     "status": "completed"
    },
    "tags": []
   },
   "outputs": [],
   "source": [
    "X = df.iloc[:, :-1]\n",
    "y = df.iloc[:, -1:]\n",
    "x_train, X_test, y_train, y_test = train_test_split(X, y,\n",
    "                                                    test_size=0.33,\n",
    "                                                    random_state=42)"
   ]
  },
  {
   "cell_type": "code",
   "execution_count": 21,
   "id": "ethical-cedar",
   "metadata": {
    "execution": {
     "iopub.execute_input": "2021-04-14T08:17:18.562717Z",
     "iopub.status.busy": "2021-04-14T08:17:18.562134Z",
     "iopub.status.idle": "2021-04-14T08:17:18.567855Z",
     "shell.execute_reply": "2021-04-14T08:17:18.568351Z"
    },
    "papermill": {
     "duration": 0.042806,
     "end_time": "2021-04-14T08:17:18.568534",
     "exception": false,
     "start_time": "2021-04-14T08:17:18.525728",
     "status": "completed"
    },
    "tags": []
   },
   "outputs": [],
   "source": [
    "x_train = x_train.drop(axis=1, columns=['id'])\n",
    "x_test = X_test.drop(axis=1, columns=['id'])"
   ]
  },
  {
   "cell_type": "code",
   "execution_count": 22,
   "id": "bearing-guest",
   "metadata": {
    "execution": {
     "iopub.execute_input": "2021-04-14T08:17:18.640116Z",
     "iopub.status.busy": "2021-04-14T08:17:18.639492Z",
     "iopub.status.idle": "2021-04-14T08:17:18.642674Z",
     "shell.execute_reply": "2021-04-14T08:17:18.643110Z"
    },
    "papermill": {
     "duration": 0.040963,
     "end_time": "2021-04-14T08:17:18.643288",
     "exception": false,
     "start_time": "2021-04-14T08:17:18.602325",
     "status": "completed"
    },
    "tags": []
   },
   "outputs": [],
   "source": [
    "indexes = ['accuracy', 'f1_score']"
   ]
  },
  {
   "cell_type": "markdown",
   "id": "spectacular-stanford",
   "metadata": {
    "papermill": {
     "duration": 0.033813,
     "end_time": "2021-04-14T08:17:18.711320",
     "exception": false,
     "start_time": "2021-04-14T08:17:18.677507",
     "status": "completed"
    },
    "tags": []
   },
   "source": [
    "## #3.1 LogisticRegression"
   ]
  },
  {
   "cell_type": "code",
   "execution_count": 23,
   "id": "several-brown",
   "metadata": {
    "execution": {
     "iopub.execute_input": "2021-04-14T08:17:18.787722Z",
     "iopub.status.busy": "2021-04-14T08:17:18.787002Z",
     "iopub.status.idle": "2021-04-14T08:17:18.895521Z",
     "shell.execute_reply": "2021-04-14T08:17:18.896324Z"
    },
    "papermill": {
     "duration": 0.150069,
     "end_time": "2021-04-14T08:17:18.896586",
     "exception": false,
     "start_time": "2021-04-14T08:17:18.746517",
     "status": "completed"
    },
    "tags": []
   },
   "outputs": [
    {
     "data": {
      "text/plain": [
       "LogisticRegression()"
      ]
     },
     "execution_count": 23,
     "metadata": {},
     "output_type": "execute_result"
    }
   ],
   "source": [
    "lr = LogisticRegression()\n",
    "lr.fit(x_train, y_train)"
   ]
  },
  {
   "cell_type": "code",
   "execution_count": 24,
   "id": "electoral-burlington",
   "metadata": {
    "execution": {
     "iopub.execute_input": "2021-04-14T08:17:19.034524Z",
     "iopub.status.busy": "2021-04-14T08:17:19.033519Z",
     "iopub.status.idle": "2021-04-14T08:17:19.041715Z",
     "shell.execute_reply": "2021-04-14T08:17:19.042720Z"
    },
    "papermill": {
     "duration": 0.079743,
     "end_time": "2021-04-14T08:17:19.043023",
     "exception": false,
     "start_time": "2021-04-14T08:17:18.963280",
     "status": "completed"
    },
    "tags": []
   },
   "outputs": [],
   "source": [
    "lr_pred = lr.predict(x_test)\n",
    "lr_acc = accuracy_score(lr_pred, y_test)\n",
    "lr_f1 = f1_score(lr_pred, y_test)\n",
    "lr_frame = pd.DataFrame({\n",
    "    'LogisticRegression': [lr_acc, lr_f1]\n",
    "}, index=indexes)"
   ]
  },
  {
   "cell_type": "markdown",
   "id": "extra-occurrence",
   "metadata": {
    "papermill": {
     "duration": 0.062004,
     "end_time": "2021-04-14T08:17:19.171671",
     "exception": false,
     "start_time": "2021-04-14T08:17:19.109667",
     "status": "completed"
    },
    "tags": []
   },
   "source": [
    "## #3.2 RandomForestClassifier"
   ]
  },
  {
   "cell_type": "code",
   "execution_count": 25,
   "id": "finite-thompson",
   "metadata": {
    "execution": {
     "iopub.execute_input": "2021-04-14T08:17:19.249922Z",
     "iopub.status.busy": "2021-04-14T08:17:19.249270Z",
     "iopub.status.idle": "2021-04-14T08:17:19.614477Z",
     "shell.execute_reply": "2021-04-14T08:17:19.613822Z"
    },
    "papermill": {
     "duration": 0.408236,
     "end_time": "2021-04-14T08:17:19.614622",
     "exception": false,
     "start_time": "2021-04-14T08:17:19.206386",
     "status": "completed"
    },
    "tags": []
   },
   "outputs": [
    {
     "data": {
      "text/plain": [
       "RandomForestClassifier()"
      ]
     },
     "execution_count": 25,
     "metadata": {},
     "output_type": "execute_result"
    }
   ],
   "source": [
    "rfc = RandomForestClassifier()\n",
    "rfc.fit(x_train, y_train)"
   ]
  },
  {
   "cell_type": "code",
   "execution_count": 26,
   "id": "fresh-playlist",
   "metadata": {
    "execution": {
     "iopub.execute_input": "2021-04-14T08:17:19.694304Z",
     "iopub.status.busy": "2021-04-14T08:17:19.693339Z",
     "iopub.status.idle": "2021-04-14T08:17:19.729639Z",
     "shell.execute_reply": "2021-04-14T08:17:19.729099Z"
    },
    "papermill": {
     "duration": 0.079245,
     "end_time": "2021-04-14T08:17:19.729773",
     "exception": false,
     "start_time": "2021-04-14T08:17:19.650528",
     "status": "completed"
    },
    "tags": []
   },
   "outputs": [],
   "source": [
    "rfc_pred = rfc.predict(x_test)\n",
    "rfc_acc = accuracy_score(rfc_pred, y_test)\n",
    "rfc_f1 = f1_score(rfc_pred, y_test)\n",
    "rfc_frame = pd.DataFrame({\n",
    "    'RandomForestClassifier': [rfc_acc, rfc_f1]\n",
    "}, index=indexes)"
   ]
  },
  {
   "cell_type": "markdown",
   "id": "perfect-parcel",
   "metadata": {
    "papermill": {
     "duration": 0.035816,
     "end_time": "2021-04-14T08:17:19.802680",
     "exception": false,
     "start_time": "2021-04-14T08:17:19.766864",
     "status": "completed"
    },
    "tags": []
   },
   "source": [
    "## #3.3 DecisionTreeClassifier"
   ]
  },
  {
   "cell_type": "code",
   "execution_count": 27,
   "id": "spoken-eligibility",
   "metadata": {
    "execution": {
     "iopub.execute_input": "2021-04-14T08:17:19.882975Z",
     "iopub.status.busy": "2021-04-14T08:17:19.882102Z",
     "iopub.status.idle": "2021-04-14T08:17:19.898203Z",
     "shell.execute_reply": "2021-04-14T08:17:19.897557Z"
    },
    "papermill": {
     "duration": 0.059751,
     "end_time": "2021-04-14T08:17:19.898357",
     "exception": false,
     "start_time": "2021-04-14T08:17:19.838606",
     "status": "completed"
    },
    "tags": []
   },
   "outputs": [
    {
     "data": {
      "text/plain": [
       "DecisionTreeClassifier()"
      ]
     },
     "execution_count": 27,
     "metadata": {},
     "output_type": "execute_result"
    }
   ],
   "source": [
    "tree = DecisionTreeClassifier()\n",
    "tree.fit(x_train, y_train)"
   ]
  },
  {
   "cell_type": "code",
   "execution_count": 28,
   "id": "approximate-shame",
   "metadata": {
    "execution": {
     "iopub.execute_input": "2021-04-14T08:17:19.978154Z",
     "iopub.status.busy": "2021-04-14T08:17:19.977084Z",
     "iopub.status.idle": "2021-04-14T08:17:19.985076Z",
     "shell.execute_reply": "2021-04-14T08:17:19.984527Z"
    },
    "papermill": {
     "duration": 0.050633,
     "end_time": "2021-04-14T08:17:19.985222",
     "exception": false,
     "start_time": "2021-04-14T08:17:19.934589",
     "status": "completed"
    },
    "tags": []
   },
   "outputs": [],
   "source": [
    "tree_pred = tree.predict(x_test)\n",
    "tree_acc = accuracy_score(tree_pred, y_test)\n",
    "tree_f1 = f1_score(tree_pred, y_test)\n",
    "tree_frame = pd.DataFrame({\n",
    "    'DecisionTreeClassifier': [tree_acc, tree_f1]\n",
    "}, index=indexes)"
   ]
  },
  {
   "cell_type": "markdown",
   "id": "twelve-rental",
   "metadata": {
    "papermill": {
     "duration": 0.035832,
     "end_time": "2021-04-14T08:17:20.056515",
     "exception": false,
     "start_time": "2021-04-14T08:17:20.020683",
     "status": "completed"
    },
    "tags": []
   },
   "source": [
    "## #3.4 XGBClassifier"
   ]
  },
  {
   "cell_type": "code",
   "execution_count": 29,
   "id": "spanish-potato",
   "metadata": {
    "execution": {
     "iopub.execute_input": "2021-04-14T08:17:20.134212Z",
     "iopub.status.busy": "2021-04-14T08:17:20.133324Z",
     "iopub.status.idle": "2021-04-14T08:17:20.399228Z",
     "shell.execute_reply": "2021-04-14T08:17:20.398602Z"
    },
    "papermill": {
     "duration": 0.30706,
     "end_time": "2021-04-14T08:17:20.399363",
     "exception": false,
     "start_time": "2021-04-14T08:17:20.092303",
     "status": "completed"
    },
    "tags": []
   },
   "outputs": [
    {
     "name": "stdout",
     "output_type": "stream",
     "text": [
      "[08:17:20] WARNING: ../src/learner.cc:1061: Starting in XGBoost 1.3.0, the default evaluation metric used with the objective 'binary:logistic' was changed from 'error' to 'logloss'. Explicitly set eval_metric if you'd like to restore the old behavior.\n"
     ]
    },
    {
     "data": {
      "text/plain": [
       "XGBClassifier(base_score=0.5, booster='gbtree', colsample_bylevel=1,\n",
       "              colsample_bynode=1, colsample_bytree=1, gamma=0, gpu_id=-1,\n",
       "              importance_type='gain', interaction_constraints='',\n",
       "              learning_rate=0.300000012, max_delta_step=0, max_depth=6,\n",
       "              min_child_weight=1, missing=nan, monotone_constraints='()',\n",
       "              n_estimators=100, n_jobs=4, num_parallel_tree=1, random_state=0,\n",
       "              reg_alpha=0, reg_lambda=1, scale_pos_weight=1, subsample=1,\n",
       "              tree_method='exact', validate_parameters=1, verbosity=None)"
      ]
     },
     "execution_count": 29,
     "metadata": {},
     "output_type": "execute_result"
    }
   ],
   "source": [
    "xgb = XGBClassifier()\n",
    "xgb.fit(x_train, y_train)"
   ]
  },
  {
   "cell_type": "code",
   "execution_count": 30,
   "id": "sound-morocco",
   "metadata": {
    "execution": {
     "iopub.execute_input": "2021-04-14T08:17:20.478911Z",
     "iopub.status.busy": "2021-04-14T08:17:20.478234Z",
     "iopub.status.idle": "2021-04-14T08:17:20.489172Z",
     "shell.execute_reply": "2021-04-14T08:17:20.489633Z"
    },
    "papermill": {
     "duration": 0.053314,
     "end_time": "2021-04-14T08:17:20.489815",
     "exception": false,
     "start_time": "2021-04-14T08:17:20.436501",
     "status": "completed"
    },
    "tags": []
   },
   "outputs": [],
   "source": [
    "xgb_pred = xgb.predict(x_test)\n",
    "xgb_acc = accuracy_score(xgb_pred, y_test)\n",
    "xgb_f1 = f1_score(xgb_pred, y_test)\n",
    "xgb_frame = pd.DataFrame({\n",
    "    'XGBClassifier': [xgb_acc, xgb_f1]\n",
    "}, index=indexes)"
   ]
  },
  {
   "cell_type": "code",
   "execution_count": 31,
   "id": "exempt-cheese",
   "metadata": {
    "execution": {
     "iopub.execute_input": "2021-04-14T08:17:20.576385Z",
     "iopub.status.busy": "2021-04-14T08:17:20.575500Z",
     "iopub.status.idle": "2021-04-14T08:17:20.580165Z",
     "shell.execute_reply": "2021-04-14T08:17:20.579586Z"
    },
    "papermill": {
     "duration": 0.053004,
     "end_time": "2021-04-14T08:17:20.580305",
     "exception": false,
     "start_time": "2021-04-14T08:17:20.527301",
     "status": "completed"
    },
    "tags": []
   },
   "outputs": [
    {
     "data": {
      "text/html": [
       "<div>\n",
       "<style scoped>\n",
       "    .dataframe tbody tr th:only-of-type {\n",
       "        vertical-align: middle;\n",
       "    }\n",
       "\n",
       "    .dataframe tbody tr th {\n",
       "        vertical-align: top;\n",
       "    }\n",
       "\n",
       "    .dataframe thead th {\n",
       "        text-align: right;\n",
       "    }\n",
       "</style>\n",
       "<table border=\"1\" class=\"dataframe\">\n",
       "  <thead>\n",
       "    <tr style=\"text-align: right;\">\n",
       "      <th></th>\n",
       "      <th>LogisticRegression</th>\n",
       "      <th>RandomForestClassifier</th>\n",
       "      <th>DecisionTreeClassifier</th>\n",
       "      <th>XGBClassifier</th>\n",
       "    </tr>\n",
       "  </thead>\n",
       "  <tbody>\n",
       "    <tr>\n",
       "      <th>accuracy</th>\n",
       "      <td>0.943094</td>\n",
       "      <td>0.942501</td>\n",
       "      <td>0.906935</td>\n",
       "      <td>0.936574</td>\n",
       "    </tr>\n",
       "    <tr>\n",
       "      <th>f1_score</th>\n",
       "      <td>0.000000</td>\n",
       "      <td>0.020202</td>\n",
       "      <td>0.169312</td>\n",
       "      <td>0.130081</td>\n",
       "    </tr>\n",
       "  </tbody>\n",
       "</table>\n",
       "</div>"
      ],
      "text/plain": [
       "          LogisticRegression  RandomForestClassifier  DecisionTreeClassifier  \\\n",
       "accuracy            0.943094                0.942501                0.906935   \n",
       "f1_score            0.000000                0.020202                0.169312   \n",
       "\n",
       "          XGBClassifier  \n",
       "accuracy       0.936574  \n",
       "f1_score       0.130081  "
      ]
     },
     "execution_count": 31,
     "metadata": {},
     "output_type": "execute_result"
    }
   ],
   "source": [
    "pd.concat([lr_frame, rfc_frame, tree_frame, xgb_frame], axis=1)"
   ]
  },
  {
   "cell_type": "markdown",
   "id": "downtown-stake",
   "metadata": {
    "papermill": {
     "duration": 0.036294,
     "end_time": "2021-04-14T08:17:20.653550",
     "exception": false,
     "start_time": "2021-04-14T08:17:20.617256",
     "status": "completed"
    },
    "tags": []
   },
   "source": [
    "# Saving the result"
   ]
  },
  {
   "cell_type": "code",
   "execution_count": 32,
   "id": "commercial-silence",
   "metadata": {
    "execution": {
     "iopub.execute_input": "2021-04-14T08:17:20.733774Z",
     "iopub.status.busy": "2021-04-14T08:17:20.732798Z",
     "iopub.status.idle": "2021-04-14T08:17:20.747373Z",
     "shell.execute_reply": "2021-04-14T08:17:20.747768Z"
    },
    "papermill": {
     "duration": 0.057158,
     "end_time": "2021-04-14T08:17:20.747943",
     "exception": false,
     "start_time": "2021-04-14T08:17:20.690785",
     "status": "completed"
    },
    "tags": []
   },
   "outputs": [
    {
     "data": {
      "text/html": [
       "<div>\n",
       "<style scoped>\n",
       "    .dataframe tbody tr th:only-of-type {\n",
       "        vertical-align: middle;\n",
       "    }\n",
       "\n",
       "    .dataframe tbody tr th {\n",
       "        vertical-align: top;\n",
       "    }\n",
       "\n",
       "    .dataframe thead th {\n",
       "        text-align: right;\n",
       "    }\n",
       "</style>\n",
       "<table border=\"1\" class=\"dataframe\">\n",
       "  <thead>\n",
       "    <tr style=\"text-align: right;\">\n",
       "      <th></th>\n",
       "      <th>id</th>\n",
       "      <th>stroke</th>\n",
       "    </tr>\n",
       "  </thead>\n",
       "  <tbody>\n",
       "    <tr>\n",
       "      <th>4688</th>\n",
       "      <td>40041</td>\n",
       "      <td>0</td>\n",
       "    </tr>\n",
       "    <tr>\n",
       "      <th>4478</th>\n",
       "      <td>55244</td>\n",
       "      <td>0</td>\n",
       "    </tr>\n",
       "    <tr>\n",
       "      <th>3849</th>\n",
       "      <td>70992</td>\n",
       "      <td>0</td>\n",
       "    </tr>\n",
       "    <tr>\n",
       "      <th>4355</th>\n",
       "      <td>38207</td>\n",
       "      <td>1</td>\n",
       "    </tr>\n",
       "    <tr>\n",
       "      <th>3826</th>\n",
       "      <td>8541</td>\n",
       "      <td>0</td>\n",
       "    </tr>\n",
       "    <tr>\n",
       "      <th>...</th>\n",
       "      <td>...</td>\n",
       "      <td>...</td>\n",
       "    </tr>\n",
       "    <tr>\n",
       "      <th>319</th>\n",
       "      <td>1686</td>\n",
       "      <td>0</td>\n",
       "    </tr>\n",
       "    <tr>\n",
       "      <th>2399</th>\n",
       "      <td>69668</td>\n",
       "      <td>0</td>\n",
       "    </tr>\n",
       "    <tr>\n",
       "      <th>1589</th>\n",
       "      <td>49815</td>\n",
       "      <td>0</td>\n",
       "    </tr>\n",
       "    <tr>\n",
       "      <th>682</th>\n",
       "      <td>61300</td>\n",
       "      <td>0</td>\n",
       "    </tr>\n",
       "    <tr>\n",
       "      <th>4540</th>\n",
       "      <td>6202</td>\n",
       "      <td>0</td>\n",
       "    </tr>\n",
       "  </tbody>\n",
       "</table>\n",
       "<p>1687 rows × 2 columns</p>\n",
       "</div>"
      ],
      "text/plain": [
       "         id  stroke\n",
       "4688  40041       0\n",
       "4478  55244       0\n",
       "3849  70992       0\n",
       "4355  38207       1\n",
       "3826   8541       0\n",
       "...     ...     ...\n",
       "319    1686       0\n",
       "2399  69668       0\n",
       "1589  49815       0\n",
       "682   61300       0\n",
       "4540   6202       0\n",
       "\n",
       "[1687 rows x 2 columns]"
      ]
     },
     "execution_count": 32,
     "metadata": {},
     "output_type": "execute_result"
    }
   ],
   "source": [
    "submission = pd.DataFrame({\n",
    "    'id': X_test['id'],\n",
    "    'stroke': xgb_pred\n",
    "})\n",
    "submission.to_csv('submission.csv', index=False)\n",
    "submission"
   ]
  },
  {
   "cell_type": "markdown",
   "id": "checked-registrar",
   "metadata": {
    "papermill": {
     "duration": 0.037624,
     "end_time": "2021-04-14T08:17:20.824673",
     "exception": false,
     "start_time": "2021-04-14T08:17:20.787049",
     "status": "completed"
    },
    "tags": []
   },
   "source": [
    "# Summary\n",
    "**The great thing that we can notice is that even without playing with the parameters  \n",
    "we can get a decent result. On an ordinary logistic regression. Maybe my result is not  \n",
    "so good, but I think that, we need more information on stroke. Thank you for checking my work.  \n",
    "I would be happy to have any comments and evaluations.**  \n",
    "****\n",
    "**f1_score = 0.0, I think this is because TP or TN is zero**"
   ]
  },
  {
   "cell_type": "markdown",
   "id": "molecular-rider",
   "metadata": {
    "papermill": {
     "duration": 0.037639,
     "end_time": "2021-04-14T08:17:20.900008",
     "exception": false,
     "start_time": "2021-04-14T08:17:20.862369",
     "status": "completed"
    },
    "tags": []
   },
   "source": [
    "# Thanks for reading. Don't forget to upvote the work. Good luck kaggling!"
   ]
  },
  {
   "cell_type": "code",
   "execution_count": null,
   "id": "experimental-apparel",
   "metadata": {
    "papermill": {
     "duration": 0.038839,
     "end_time": "2021-04-14T08:17:20.976409",
     "exception": false,
     "start_time": "2021-04-14T08:17:20.937570",
     "status": "completed"
    },
    "tags": []
   },
   "outputs": [],
   "source": []
  }
 ],
 "metadata": {
  "kernelspec": {
   "display_name": "Python 3",
   "language": "python",
   "name": "python3"
  },
  "language_info": {
   "codemirror_mode": {
    "name": "ipython",
    "version": 3
   },
   "file_extension": ".py",
   "mimetype": "text/x-python",
   "name": "python",
   "nbconvert_exporter": "python",
   "pygments_lexer": "ipython3",
   "version": "3.7.9"
  },
  "papermill": {
   "default_parameters": {},
   "duration": 15.867421,
   "end_time": "2021-04-14T08:17:21.726146",
   "environment_variables": {},
   "exception": null,
   "input_path": "__notebook__.ipynb",
   "output_path": "__notebook__.ipynb",
   "parameters": {},
   "start_time": "2021-04-14T08:17:05.858725",
   "version": "2.3.2"
  }
 },
 "nbformat": 4,
 "nbformat_minor": 5
}
